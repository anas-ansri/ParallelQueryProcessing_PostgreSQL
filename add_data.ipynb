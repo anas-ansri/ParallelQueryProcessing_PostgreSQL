{
 "cells": [
  {
   "cell_type": "code",
   "execution_count": 1,
   "metadata": {},
   "outputs": [],
   "source": [
    "import psycopg2\n",
    "import random"
   ]
  },
  {
   "cell_type": "code",
   "execution_count": null,
   "metadata": {},
   "outputs": [],
   "source": [
    "# Connect to PostgreSQL server\n",
    "connection = psycopg2.connect(  \n",
    "    host=\"host_address\", database=\"database_name\", user=\"user_name\", password=\"password\"\n",
    ")\n",
    "\n",
    "# Create a cursor object to execute SQL queries\n",
    "cursor = connection.cursor()"
   ]
  },
  {
   "cell_type": "code",
   "execution_count": null,
   "metadata": {},
   "outputs": [],
   "source": [
    "# Create table if it doesn't exist\n",
    "create_table_query = \"\"\"\n",
    "CREATE TABLE IF NOT EXISTS dummy (\n",
    "    id SERIAL PRIMARY KEY,\n",
    "    name VARCHAR(100),\n",
    "    age INTEGER\n",
    ");\n",
    "\"\"\"\n",
    "cursor.execute(create_table_query)\n",
    "connection.commit()"
   ]
  },
  {
   "cell_type": "code",
   "execution_count": null,
   "metadata": {},
   "outputs": [],
   "source": [
    "# Define a function to add dummy data to the table\n",
    "def add_dummy_data(num_rows):\n",
    "    # Generate dummy data\n",
    "    dummy_data = []\n",
    "    for i in range(num_rows):\n",
    "        id = i + 1\n",
    "        name = f\"Name_{id}\"\n",
    "        age = random.randint(18, 60)  # Random age between 18 and 60\n",
    "        dummy_data.append((id, name, age))\n",
    "    \n",
    "    # SQL statement to insert data\n",
    "    sql = \"INSERT INTO dummy (id, name, age) VALUES (%s, %s, %s)\"\n",
    "    \n",
    "    # Execute the SQL statement for each row of dummy data\n",
    "    cursor.executemany(sql, dummy_data)\n",
    "    \n",
    "    # Commit the changes to the database\n",
    "    connection.commit()\n",
    "    \n",
    "    print(f\"{num_rows} rows of dummy data added successfully.\")"
   ]
  },
  {
   "cell_type": "code",
   "execution_count": null,
   "metadata": {},
   "outputs": [],
   "source": [
    "# Call the function to add 1000 rows of dummy data\n",
    "add_dummy_data(100000)\n",
    "\n",
    "# Close the cursor and connection\n",
    "cursor.close()\n",
    "connection.close()"
   ]
  }
 ],
 "metadata": {
  "kernelspec": {
   "display_name": "Python 3",
   "language": "python",
   "name": "python3"
  },
  "language_info": {
   "codemirror_mode": {
    "name": "ipython",
    "version": 3
   },
   "file_extension": ".py",
   "mimetype": "text/x-python",
   "name": "python",
   "nbconvert_exporter": "python",
   "pygments_lexer": "ipython3",
   "version": "3.12.3"
  }
 },
 "nbformat": 4,
 "nbformat_minor": 2
}
