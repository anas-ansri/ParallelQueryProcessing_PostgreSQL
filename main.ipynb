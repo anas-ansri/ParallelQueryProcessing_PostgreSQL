{
 "cells": [
  {
   "cell_type": "code",
   "execution_count": 1,
   "metadata": {},
   "outputs": [],
   "source": [
    "import psycopg2\n",
    "import time"
   ]
  },
  {
   "cell_type": "code",
   "execution_count": 2,
   "metadata": {},
   "outputs": [],
   "source": [
    "def execute_query(conn, query):\n",
    "    cursor = conn.cursor()\n",
    "    start_time = time.time()\n",
    "    cursor.execute(query)\n",
    "    # Fetch results only if the query is a SELECT statement\n",
    "    if cursor.description is not None:\n",
    "        cursor.fetchall()\n",
    "    end_time = time.time()\n",
    "    cursor.close()\n",
    "    return end_time - start_time"
   ]
  },
  {
   "cell_type": "code",
   "execution_count": null,
   "metadata": {},
   "outputs": [],
   "source": [
    "# Connection parameters - replace these with your database details\n",
    "connection_params = {\n",
    "    \"host\": \"host_address\",\n",
    "    \"dbname\": \"database_name\",\n",
    "    \"user\": \"user_name\",\n",
    "    \"password\": \"password\",\n",
    "}\n",
    "\n",
    "\n",
    "# Connect to the PostgreSQL database\n",
    "conn = psycopg2.connect(**connection_params)\n",
    "\n",
    "# Normal SQL query\n",
    "normal_query = \"\"\"\n",
    "SELECT * FROM dummy;\n",
    "\"\"\"\n",
    "\n",
    "# Parallel SQL query\n",
    "set_parallel_workers_query = \"\"\"\n",
    "SET max_parallel_workers_per_gather = 4;\n",
    "SET max_parallel_workers TO 8;\n",
    "\"\"\"\n",
    "reset_parallel_workers_query = \"\"\"\n",
    "RESET max_parallel_workers_per_gather;\n",
    "RESET max_parallel_workers;\n",
    "\"\"\"\n",
    "parallel_query = set_parallel_workers_query + normal_query + reset_parallel_workers_query\n",
    "\n",
    "# Execute and time the normal query\n",
    "normal_time = execute_query(conn, normal_query)\n",
    "print(f\"Normal query execution time: {normal_time:.4f} seconds\")\n",
    "\n",
    "# Execute and time the parallel query\n",
    "parallel_time = execute_query(conn, parallel_query)\n",
    "print(f\"Parallel query execution time: {parallel_time:.4f} seconds\")\n",
    "\n",
    "# Close the connection\n",
    "conn.close()"
   ]
  }
 ],
 "metadata": {
  "kernelspec": {
   "display_name": "Python 3",
   "language": "python",
   "name": "python3"
  },
  "language_info": {
   "codemirror_mode": {
    "name": "ipython",
    "version": 3
   },
   "file_extension": ".py",
   "mimetype": "text/x-python",
   "name": "python",
   "nbconvert_exporter": "python",
   "pygments_lexer": "ipython3",
   "version": "3.12.3"
  }
 },
 "nbformat": 4,
 "nbformat_minor": 2
}
